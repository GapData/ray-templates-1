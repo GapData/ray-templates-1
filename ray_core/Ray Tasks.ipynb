{
 "cells": [
  {
   "cell_type": "markdown",
   "metadata": {},
   "source": [
    "## Getting Started with Ray Tasks\n",
    "\n",
    "At a high level, there are two primitives when it comes to writing programs. Those that maintain state and those that do not. In the Ray world, we call objects that maintain state **actors**, while we call stateless functions, **tasks**. While there is, of course, much more nuance when it comes to writing programs - this is a reasonable simplicity that will allow us to introduce you to distributed programming with Ray.\n",
    "\n",
    "> Ray is a distributed computing framework that aims to make it easy and simple to write distributed programs.\n",
    "\n",
    "In this case, we're going to focus on **tasks** and write simple functions that Ray will distribute for us across the cluster."
   ]
  },
  {
   "cell_type": "code",
   "execution_count": 7,
   "metadata": {},
   "outputs": [],
   "source": [
    "import time"
   ]
  },
  {
   "cell_type": "code",
   "execution_count": 8,
   "metadata": {},
   "outputs": [
    {
     "name": "stdout",
     "output_type": "stream",
     "text": [
      "running a simple function\n"
     ]
    },
    {
     "data": {
      "text/plain": [
       "20.0"
      ]
     },
     "execution_count": 8,
     "metadata": {},
     "output_type": "execute_result"
    }
   ],
   "source": [
    "def a_simple_function(some_value, another_value):\n",
    "    print(\"running a simple function\")\n",
    "    time.sleep(2)\n",
    "    return (some_value + another_value) / 2\n",
    "\n",
    "a_simple_function(15, 25)"
   ]
  },
  {
   "cell_type": "markdown",
   "metadata": {},
   "source": [
    "This function runs *immediately* and returns the exact result. This will run within the python process of the local machine. In this case, we're running inside of a Jupyter Notebook, in a python process managed by Jupyter. It's a bit contrived, but we're making this function take more time than it should with `time.sleep(2)` to simulate a longer running function.\n",
    "\n",
    "As expected, this will take take 2 seconds to run."
   ]
  },
  {
   "cell_type": "code",
   "execution_count": 10,
   "metadata": {},
   "outputs": [
    {
     "name": "stdout",
     "output_type": "stream",
     "text": [
      "running a simple function\n",
      "running a simple function\n",
      "running a simple function\n",
      "running a simple function\n",
      "running a simple function\n",
      "running a simple function\n",
      "running a simple function\n",
      "running a simple function\n",
      "2 s ± 1.58 ms per loop (mean ± std. dev. of 7 runs, 1 loop each)\n"
     ]
    }
   ],
   "source": [
    "%timeit a_simple_function(15, 25)"
   ]
  },
  {
   "cell_type": "markdown",
   "metadata": {},
   "source": [
    "Now, what makes Ray so great is that it can take this simple function that we just wrote and do two things to it.\n",
    "\n",
    "1. Have it run as a background process.\n",
    "2. Have it run on a different machine.\n",
    "\n",
    "This effectively takes any function you write and makes it into a scalable function service. In Ray terminology, this is **Ray Task**. Ray takes care of distributing and communicating to this function as well as scaling it out. Let's see that now.\n",
    "\n",
    "To convert a function into a **Ray Task**, all that we add is a decorator to the function."
   ]
  },
  {
   "cell_type": "code",
   "execution_count": 11,
   "metadata": {},
   "outputs": [],
   "source": [
    "import ray"
   ]
  },
  {
   "cell_type": "code",
   "execution_count": 12,
   "metadata": {},
   "outputs": [],
   "source": [
    "@ray.remote\n",
    "def a_simple_function(some_value, another_value):\n",
    "    print(\"running a simple function\")\n",
    "    time.sleep(2)\n",
    "    return (some_value + another_value) / 2"
   ]
  },
  {
   "cell_type": "markdown",
   "metadata": {},
   "source": [
    "Now we imported Ray and now we can submit calls to this function. To do so, there are two slight modifications.\n",
    "\n",
    "1. We need to initialize a ray application that will manage the fault tolerance and communication for this process.\n",
    "2. We need to slightly change the way that we call this function. Instead of calling it like a normal function, we've got to call the *remote* version."
   ]
  },
  {
   "cell_type": "code",
   "execution_count": 13,
   "metadata": {},
   "outputs": [
    {
     "name": "stderr",
     "output_type": "stream",
     "text": [
      "2020-04-09 15:46:03,620\tINFO resource_spec.py:212 -- Starting Ray with 2.15 GiB memory available for workers and up to 1.1 GiB for objects. You can adjust these settings with ray.init(memory=<bytes>, object_store_memory=<bytes>).\n",
      "2020-04-09 15:46:03,985\tINFO services.py:1123 -- View the Ray dashboard at \u001b[1m\u001b[32mlocalhost:8265\u001b[39m\u001b[22m\n"
     ]
    },
    {
     "data": {
      "text/plain": [
       "{'node_ip_address': '192.168.1.181',\n",
       " 'redis_address': '192.168.1.181:57507',\n",
       " 'object_store_address': '/tmp/ray/session_2020-04-09_15-46-03_610704_20002/sockets/plasma_store',\n",
       " 'raylet_socket_name': '/tmp/ray/session_2020-04-09_15-46-03_610704_20002/sockets/raylet',\n",
       " 'webui_url': 'localhost:8265',\n",
       " 'session_dir': '/tmp/ray/session_2020-04-09_15-46-03_610704_20002'}"
      ]
     },
     "execution_count": 13,
     "metadata": {},
     "output_type": "execute_result"
    }
   ],
   "source": [
    "ray.init() # initialize Ray, because we're running on a cluster, \n",
    "# we've got to set the correct address. On a local machine, you wouldn't provide an address."
   ]
  },
  {
   "cell_type": "markdown",
   "metadata": {},
   "source": [
    "Now that Ray is initialized, we can "
   ]
  },
  {
   "cell_type": "code",
   "execution_count": 14,
   "metadata": {},
   "outputs": [
    {
     "data": {
      "text/plain": [
       "ObjectID(45b95b1c8bd3a9c4ffffffff010000c801000000)"
      ]
     },
     "execution_count": 14,
     "metadata": {},
     "output_type": "execute_result"
    }
   ],
   "source": [
    "res1 = a_simple_function.remote(15, 25)\n",
    "res1"
   ]
  },
  {
   "cell_type": "markdown",
   "metadata": {},
   "source": [
    "This returns an object (and happened to print out an pid). This shows us the process in which this function is running (you might want this for debugging).\n",
    "\n",
    "Now what is happening behind the scenes is that Ray is running this function on our behalf and storing the result. We can fetch that from Ray by referencing the object that holds the result."
   ]
  },
  {
   "cell_type": "code",
   "execution_count": 15,
   "metadata": {},
   "outputs": [
    {
     "name": "stdout",
     "output_type": "stream",
     "text": [
      "\u001b[2m\u001b[36m(pid=20020)\u001b[0m running a simple function\n"
     ]
    },
    {
     "data": {
      "text/plain": [
       "20.0"
      ]
     },
     "execution_count": 15,
     "metadata": {},
     "output_type": "execute_result"
    }
   ],
   "source": [
    "ray.get(res1)"
   ]
  },
  {
   "cell_type": "markdown",
   "metadata": {},
   "source": [
    "Now we can see how long it takes to execute and see that it's quite on par with what we saw before."
   ]
  },
  {
   "cell_type": "code",
   "execution_count": 16,
   "metadata": {},
   "outputs": [
    {
     "name": "stdout",
     "output_type": "stream",
     "text": [
      "\u001b[2m\u001b[36m(pid=20022)\u001b[0m running a simple function\n",
      "\u001b[2m\u001b[36m(pid=20022)\u001b[0m running a simple function\n",
      "\u001b[2m\u001b[36m(pid=20022)\u001b[0m running a simple function\n",
      "\u001b[2m\u001b[36m(pid=20022)\u001b[0m running a simple function\n",
      "\u001b[2m\u001b[36m(pid=20022)\u001b[0m running a simple function\n",
      "\u001b[2m\u001b[36m(pid=20022)\u001b[0m running a simple function\n",
      "\u001b[2m\u001b[36m(pid=20022)\u001b[0m running a simple function\n",
      "\u001b[2m\u001b[36m(pid=20022)\u001b[0m running a simple function\n",
      "2.01 s ± 833 µs per loop (mean ± std. dev. of 7 runs, 1 loop each)\n"
     ]
    }
   ],
   "source": [
    "%timeit ray.get(a_simple_function.remote(15, 25))"
   ]
  },
  {
   "cell_type": "markdown",
   "metadata": {},
   "source": [
    "However the power of Ray doesn't lie in the fact that we can run a function serially, the power of Ray is that we can run this function in parallel extremely easily. For instance, let's rewrite this function to give it an explicit number of cores (right now it uses all of them **TODO CONFIRM**). In this example we'll set the `num_cpus=2` to give it two CPU cores to use."
   ]
  },
  {
   "cell_type": "code",
   "execution_count": 17,
   "metadata": {},
   "outputs": [],
   "source": [
    "@ray.remote(num_cpus=2)\n",
    "def a_simple_function2(some_value, another_value):\n",
    "    print(\"running a simple function\")\n",
    "    time.sleep(2)\n",
    "    return (some_value + another_value) / 2"
   ]
  },
  {
   "cell_type": "markdown",
   "metadata": {},
   "source": [
    "When we run the following code without using Ray. we would expect it to take 4 seconds to see the results (2 function calls X 2 seconds each). However, we'll see that Ray will return the result in approximately two seconds. The reason for this is that each function will run on one of the cores that we declared above."
   ]
  },
  {
   "cell_type": "code",
   "execution_count": 18,
   "metadata": {},
   "outputs": [
    {
     "name": "stdout",
     "output_type": "stream",
     "text": [
      "\u001b[2m\u001b[36m(pid=20020)\u001b[0m running a simple function\n",
      "\u001b[2m\u001b[36m(pid=20022)\u001b[0m running a simple function\n",
      "\u001b[2m\u001b[36m(pid=20020)\u001b[0m running a simple function\n",
      "\u001b[2m\u001b[36m(pid=20022)\u001b[0m running a simple function\n",
      "\u001b[2m\u001b[36m(pid=20020)\u001b[0m running a simple function\n",
      "\u001b[2m\u001b[36m(pid=20022)\u001b[0m running a simple function\n",
      "\u001b[2m\u001b[36m(pid=20020)\u001b[0m running a simple function\n",
      "\u001b[2m\u001b[36m(pid=20022)\u001b[0m running a simple function\n",
      "\u001b[2m\u001b[36m(pid=20020)\u001b[0m running a simple function\n",
      "\u001b[2m\u001b[36m(pid=20022)\u001b[0m running a simple function\n",
      "\u001b[2m\u001b[36m(pid=20020)\u001b[0m running a simple function\n",
      "\u001b[2m\u001b[36m(pid=20022)\u001b[0m running a simple function\n",
      "\u001b[2m\u001b[36m(pid=20020)\u001b[0m running a simple function\n",
      "\u001b[2m\u001b[36m(pid=20022)\u001b[0m running a simple function\n",
      "\u001b[2m\u001b[36m(pid=20020)\u001b[0m running a simple function\n",
      "\u001b[2m\u001b[36m(pid=20022)\u001b[0m running a simple function\n",
      "2.01 s ± 1.48 ms per loop (mean ± std. dev. of 7 runs, 1 loop each)\n"
     ]
    }
   ],
   "source": [
    "%%timeit\n",
    "\n",
    "res1 = a_simple_function.remote(15, 25)\n",
    "res2 = a_simple_function.remote(25, 35)\n",
    "ray.get([res1, res2])"
   ]
  },
  {
   "cell_type": "markdown",
   "metadata": {},
   "source": [
    "This gets at the power of Ray Tasks. It took something that we ran on our single machine (or in a single process) and made it trivial to scale it out to any number of workers. We could set this value much higher to leverage many more resources (if we had them available). To see the available resources, run the following command."
   ]
  },
  {
   "cell_type": "code",
   "execution_count": 19,
   "metadata": {},
   "outputs": [
    {
     "data": {
      "text/plain": [
       "{'node:192.168.1.181': 1.0,\n",
       " 'object_store_memory': 15.0,\n",
       " 'CPU': 8.0,\n",
       " 'memory': 44.0}"
      ]
     },
     "execution_count": 19,
     "metadata": {},
     "output_type": "execute_result"
    }
   ],
   "source": [
    "ray.cluster_resources()"
   ]
  },
  {
   "cell_type": "markdown",
   "metadata": {},
   "source": [
    "Here's a copy of the print out when I ran this while writing this notebook:\n",
    "\n",
    "```\n",
    "{'object_store_memory': 60.0,\n",
    " 'memory': 193.0,\n",
    " 'CPU': 4.0,\n",
    " 'node:172.31.25.223': 1.0,\n",
    " 'node:172.31.21.160': 1.0}\n",
    "```\n",
    "\n",
    "We can see there are a total of 4 CPUs. We specified that we only wanted to run our function with 2 in the previous example, but we could have just as easily run it with 4 and gotten a similar result."
   ]
  },
  {
   "cell_type": "markdown",
   "metadata": {},
   "source": [
    "## Conclusion\n",
    "\n",
    "This has covered the basics of Ray Tasks, you can use them to parallelize arbitrary python functions. This might be for preprocessing for machine learning applications or for doing some background task.\n",
    "\n",
    "To learn more about tasks, check out the documentation. To learn about Ray Actors, [see this notebook](Ray Actors.ipynb)."
   ]
  },
  {
   "cell_type": "code",
   "execution_count": 20,
   "metadata": {},
   "outputs": [],
   "source": [
    "ray.shutdown()"
   ]
  }
 ],
 "metadata": {
  "kernelspec": {
   "display_name": "Python 3",
   "language": "python",
   "name": "python3"
  },
  "language_info": {
   "codemirror_mode": {
    "name": "ipython",
    "version": 3
   },
   "file_extension": ".py",
   "mimetype": "text/x-python",
   "name": "python",
   "nbconvert_exporter": "python",
   "pygments_lexer": "ipython3",
   "version": "3.7.7"
  }
 },
 "nbformat": 4,
 "nbformat_minor": 4
}
