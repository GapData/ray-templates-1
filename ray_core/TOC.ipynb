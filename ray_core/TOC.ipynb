{
 "cells": [
  {
   "cell_type": "markdown",
   "metadata": {},
   "source": [
    "# Getting Started with Ray\n",
    "\n",
    "This notebook will walk you through how to get started with Ray. Ray is a framework for simplifying the process of writing distributed applications. \n",
    "\n",
    "\n",
    "## Getting Started with Ray Tasks\n",
    "\n",
    "Ray Tasks are the simplest building block in Ray. They allow you to take a function that you've built on your local machine and scale it out to a cluster of machines, thus being able to run it in parallel extremely easily.\n",
    "\n",
    "Here's [the notebook you can use to learn about Ray Tasks](Ray Tasks.ipynb).\n",
    "\n",
    "## Getting Started with Ray Actors\n",
    "\n",
    "Ray Actors are much more sophisticated than Ray Tasks. Ray Actors maintain **state** on behalf of the user and allow distributed applications to modify that state through methods.\n",
    "\n",
    "Here's [the notebook you can use to learn about Ray Actors](Ray Actors.ipynb)."
   ]
  },
  {
   "cell_type": "code",
   "execution_count": null,
   "metadata": {},
   "outputs": [],
   "source": []
  }
 ],
 "metadata": {
  "kernelspec": {
   "display_name": "Python 3",
   "language": "python",
   "name": "python3"
  },
  "language_info": {
   "codemirror_mode": {
    "name": "ipython",
    "version": 3
   },
   "file_extension": ".py",
   "mimetype": "text/x-python",
   "name": "python",
   "nbconvert_exporter": "python",
   "pygments_lexer": "ipython3",
   "version": "3.7.7"
  }
 },
 "nbformat": 4,
 "nbformat_minor": 4
}
