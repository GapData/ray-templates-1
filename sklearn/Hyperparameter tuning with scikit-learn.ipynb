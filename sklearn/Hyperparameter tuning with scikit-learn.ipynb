{
 "cells": [
  {
   "cell_type": "code",
   "execution_count": 1,
   "metadata": {},
   "outputs": [],
   "source": [
    "import numpy as np\n",
    "from sklearn.datasets import load_digits\n",
    "from sklearn.model_selection import RandomizedSearchCV\n",
    "from sklearn.svm import SVC      "
   ]
  },
  {
   "cell_type": "markdown",
   "metadata": {},
   "source": [
    "## Data"
   ]
  },
  {
   "cell_type": "code",
   "execution_count": 2,
   "metadata": {},
   "outputs": [],
   "source": [
    "digits = load_digits()"
   ]
  },
  {
   "cell_type": "markdown",
   "metadata": {},
   "source": [
    "## Initializations"
   ]
  },
  {
   "cell_type": "code",
   "execution_count": 3,
   "metadata": {},
   "outputs": [],
   "source": [
    "param_space = {\n",
    "    'C': np.logspace(-6, 6, 30),\n",
    "    'gamma': np.logspace(-8, 8, 30),\n",
    "    'tol': np.logspace(-4, -1, 30),\n",
    "    'class_weight': [None, 'balanced'],\n",
    "}"
   ]
  },
  {
   "cell_type": "code",
   "execution_count": 4,
   "metadata": {},
   "outputs": [],
   "source": [
    "model = SVC(kernel='rbf')\n",
    "search = RandomizedSearchCV(model, param_space, cv=5, n_iter=100, verbose=1)"
   ]
  },
  {
   "cell_type": "markdown",
   "metadata": {},
   "source": [
    "# Option 1: Distributed on three nodes with Ray"
   ]
  },
  {
   "cell_type": "markdown",
   "metadata": {},
   "source": [
    "## Initializing Ray"
   ]
  },
  {
   "cell_type": "code",
   "execution_count": 6,
   "metadata": {},
   "outputs": [
    {
     "name": "stderr",
     "output_type": "stream",
     "text": [
      "2020-04-17 07:51:41,499\tWARNING worker.py:788 -- When connecting to an existing cluster, _internal_config must match the cluster's _internal_config.\n"
     ]
    },
    {
     "data": {
      "text/plain": [
       "{'node_ip_address': '172.31.54.229',\n",
       " 'raylet_ip_address': '172.31.54.229',\n",
       " 'redis_address': '172.31.54.229:6379',\n",
       " 'object_store_address': '/tmp/ray/session_2020-04-17_07-31-07_412730_3320/sockets/plasma_store',\n",
       " 'raylet_socket_name': '/tmp/ray/session_2020-04-17_07-31-07_412730_3320/sockets/raylet',\n",
       " 'webui_url': 'localhost:8265',\n",
       " 'session_dir': '/tmp/ray/session_2020-04-17_07-31-07_412730_3320'}"
      ]
     },
     "execution_count": 6,
     "metadata": {},
     "output_type": "execute_result"
    }
   ],
   "source": [
    "import ray\n",
    "from ray.util.joblib import register_ray\n",
    "from joblib import parallel_backend\n",
    "register_ray()\n",
    "ray.init(address='auto')"
   ]
  },
  {
   "cell_type": "markdown",
   "metadata": {},
   "source": [
    "## Executing with Ray"
   ]
  },
  {
   "cell_type": "code",
   "execution_count": 8,
   "metadata": {},
   "outputs": [
    {
     "name": "stderr",
     "output_type": "stream",
     "text": [
      "2020-04-17 07:51:43,300\tWARNING pool.py:340 -- The 'context' argument is not supported using ray. Please refer to the documentation for how to control ray initialization.\n"
     ]
    },
    {
     "name": "stdout",
     "output_type": "stream",
     "text": [
      "Fitting 5 folds for each of 100 candidates, totalling 500 fits\n"
     ]
    },
    {
     "name": "stderr",
     "output_type": "stream",
     "text": [
      "[Parallel(n_jobs=-1)]: Using backend RayBackend with 24 concurrent workers.\n",
      "[Parallel(n_jobs=-1)]: Done   2 tasks      | elapsed:    0.8s\n",
      "[Parallel(n_jobs=-1)]: Done 152 tasks      | elapsed:    4.4s\n",
      "[Parallel(n_jobs=-1)]: Done 402 tasks      | elapsed:   10.4s\n",
      "[Parallel(n_jobs=-1)]: Done 500 out of 500 | elapsed:   14.4s finished\n",
      "/home/ubuntu/anaconda3/envs/tensorflow_p36/lib/python3.6/site-packages/sklearn/model_selection/_search.py:813: DeprecationWarning: The default of the `iid` parameter will change from True to False in version 0.22 and will be removed in 0.24. This will change numeric results when test-set sizes are unequal.\n",
      "  DeprecationWarning)\n",
      "2020-04-17 07:51:58,623\tWARNING worker.py:1069 -- A worker died or was killed while executing task ffffffffffffffff8b15f6b00600.\n",
      "2020-04-17 07:51:58,630\tWARNING worker.py:1069 -- A worker died or was killed while executing task ffffffffffffffff0fc5355c0600.\n",
      "2020-04-17 07:51:58,631\tWARNING worker.py:1069 -- A worker died or was killed while executing task ffffffffffffffffb95f9fe50600.\n",
      "2020-04-17 07:51:58,652\tWARNING worker.py:1069 -- A worker died or was killed while executing task ffffffffffffffff2d1734f60600.\n"
     ]
    }
   ],
   "source": [
    "with parallel_backend('ray'):\n",
    "    search.fit(digits.data, digits.target)"
   ]
  },
  {
   "cell_type": "markdown",
   "metadata": {},
   "source": [
    "# Option 2: Default sklearn"
   ]
  },
  {
   "cell_type": "code",
   "execution_count": 10,
   "metadata": {},
   "outputs": [
    {
     "name": "stdout",
     "output_type": "stream",
     "text": [
      "Fitting 5 folds for each of 100 candidates, totalling 500 fits\n"
     ]
    },
    {
     "name": "stderr",
     "output_type": "stream",
     "text": [
      "[Parallel(n_jobs=-1)]: Using backend LokyBackend with 8 concurrent workers.\n",
      "[Parallel(n_jobs=-1)]: Done  34 tasks      | elapsed:    4.1s\n",
      "[Parallel(n_jobs=-1)]: Done 184 tasks      | elapsed:   13.9s\n",
      "[Parallel(n_jobs=-1)]: Done 434 tasks      | elapsed:   29.9s\n",
      "[Parallel(n_jobs=-1)]: Done 500 out of 500 | elapsed:   34.2s finished\n",
      "/home/ubuntu/anaconda3/envs/tensorflow_p36/lib/python3.6/site-packages/sklearn/model_selection/_search.py:813: DeprecationWarning: The default of the `iid` parameter will change from True to False in version 0.22 and will be removed in 0.24. This will change numeric results when test-set sizes are unequal.\n",
      "  DeprecationWarning)\n"
     ]
    },
    {
     "data": {
      "text/plain": [
       "RandomizedSearchCV(cv=5, error_score='raise-deprecating',\n",
       "                   estimator=SVC(C=1.0, cache_size=200, class_weight=None,\n",
       "                                 coef0=0.0, decision_function_shape='ovr',\n",
       "                                 degree=3, gamma='auto_deprecated',\n",
       "                                 kernel='rbf', max_iter=-1, probability=False,\n",
       "                                 random_state=None, shrinking=True, tol=0.001,\n",
       "                                 verbose=False),\n",
       "                   iid='warn', n_iter=100, n_jobs=-1,\n",
       "                   param_distributions={'C': array([1.0...\n",
       "       0.00032903, 0.00041753, 0.00052983, 0.00067234, 0.00085317,\n",
       "       0.00108264, 0.00137382, 0.00174333, 0.00221222, 0.00280722,\n",
       "       0.00356225, 0.00452035, 0.00573615, 0.00727895, 0.00923671,\n",
       "       0.01172102, 0.01487352, 0.01887392, 0.02395027, 0.03039195,\n",
       "       0.0385662 , 0.04893901, 0.06210169, 0.07880463, 0.1       ])},\n",
       "                   pre_dispatch='2*n_jobs', random_state=None, refit=True,\n",
       "                   return_train_score=False, scoring=None, verbose=1)"
      ]
     },
     "execution_count": 10,
     "metadata": {},
     "output_type": "execute_result"
    }
   ],
   "source": [
    "search.set_params(n_jobs=-1)\n",
    "search.fit(digits.data, digits.target)"
   ]
  },
  {
   "cell_type": "code",
   "execution_count": null,
   "metadata": {},
   "outputs": [],
   "source": []
  }
 ],
 "metadata": {
  "kernelspec": {
   "display_name": "Python 3",
   "language": "python",
   "name": "python3"
  },
  "language_info": {
   "codemirror_mode": {
    "name": "ipython",
    "version": 3
   },
   "file_extension": ".py",
   "mimetype": "text/x-python",
   "name": "python",
   "nbconvert_exporter": "python",
   "pygments_lexer": "ipython3",
   "version": "3.6.5"
  }
 },
 "nbformat": 4,
 "nbformat_minor": 2
}
