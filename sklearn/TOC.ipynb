{
 "cells": [
  {
   "cell_type": "markdown",
   "metadata": {},
   "source": [
    "# Getting Started with Scikit Learn and Ray\n",
    "\n",
    "This folder will help you get started with Scikit Learn and Ray. \n",
    "\n",
    "The tutorials we have currently are:\n",
    "\n",
    "- [Hyperparameter Tuning with scikit-learn](Hyperparameter%20tuning%20with%20scikit-learn.ipynb)\n",
    "\n",
    "You can also learn about RayTune in [the documentation](https://ray.readthedocs.io/en/latest/tune.html)."
   ]
  },
  {
   "cell_type": "code",
   "execution_count": null,
   "metadata": {},
   "outputs": [],
   "source": []
  }
 ],
 "metadata": {
  "kernelspec": {
   "display_name": "Python 3",
   "language": "python",
   "name": "python3"
  },
  "language_info": {
   "codemirror_mode": {
    "name": "ipython",
    "version": 3
   },
   "file_extension": ".py",
   "mimetype": "text/x-python",
   "name": "python",
   "nbconvert_exporter": "python",
   "pygments_lexer": "ipython3",
   "version": "3.7.7"
  }
 },
 "nbformat": 4,
 "nbformat_minor": 4
}
