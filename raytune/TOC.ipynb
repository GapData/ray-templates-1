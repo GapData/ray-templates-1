{
 "cells": [
  {
   "cell_type": "markdown",
   "metadata": {},
   "source": [
    "# Getting Started with Ray Tune\n",
    "\n",
    "This folder will help you get started with Ray Tune. \n",
    "\n",
    "The tutorials we have currently are:\n",
    "\n",
    "- [Train MNIST with Ray Tune and PyTorch](Train%20MNIST%20with%20RayTune%20and%20PyTorch.ipynb)\n",
    "\n",
    "You can also learn about RayTune in [the documentation](https://ray.readthedocs.io/en/latest/tune.html)."
   ]
  },
  {
   "cell_type": "code",
   "execution_count": null,
   "metadata": {},
   "outputs": [],
   "source": []
  }
 ],
 "metadata": {
  "kernelspec": {
   "display_name": "Python 3",
   "language": "python",
   "name": "python3"
  },
  "language_info": {
   "codemirror_mode": {
    "name": "ipython",
    "version": 3
   },
   "file_extension": ".py",
   "mimetype": "text/x-python",
   "name": "python",
   "nbconvert_exporter": "python",
   "pygments_lexer": "ipython3",
   "version": "3.7.7"
  }
 },
 "nbformat": 4,
 "nbformat_minor": 4
}
