{
 "cells": [
  {
   "cell_type": "markdown",
   "metadata": {},
   "source": [
    "# Getting Started with RLlib\n",
    "\n",
    "This folder will help you get started with RLlib. \n",
    "\n",
    "The tutorials we have currently are:\n",
    "\n",
    "- [MDP with RLlib](rllib_exercise01_mdp.ipynb)\n",
    "- [PPO with RLlib](rllib_exercise02_ppo.ipynb)\n",
    "- [Custom Environments with RLlib](rllib_exercise01_custom_env.ipynb)\n",
    "- [Serving with RLlib](rllib_exercise01_serving.ipynb)\n",
    "\n",
    "You can also learn about RLlib in [the documentation](https://docs.ray.io/en/master/rllib-toc.html)."
   ]
  },
  {
   "cell_type": "code",
   "execution_count": null,
   "metadata": {},
   "outputs": [],
   "source": []
  }
 ],
 "metadata": {
  "kernelspec": {
   "display_name": "Python 3",
   "language": "python",
   "name": "python3"
  },
  "language_info": {
   "codemirror_mode": {
    "name": "ipython",
    "version": 3
   },
   "file_extension": ".py",
   "mimetype": "text/x-python",
   "name": "python",
   "nbconvert_exporter": "python",
   "pygments_lexer": "ipython3",
   "version": "3.7.7"
  }
 },
 "nbformat": 4,
 "nbformat_minor": 4
}
